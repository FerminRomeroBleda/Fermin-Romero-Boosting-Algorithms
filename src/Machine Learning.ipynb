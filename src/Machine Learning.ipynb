{
 "cells": [
  {
   "cell_type": "markdown",
   "metadata": {},
   "source": [
    "# Random Forest for Classification\n",
    "\n",
    "---\n",
    "\n",
    ">Note: No Overfitting occurs in Random Forest.\n",
    "\n",
    ">Note: Is done with original data. (NOT! normalized)\n",
    "\n",
    "- **Structure**: A Random Forest is an ensemble of multiple decision trees, usually trained with a technique called bagging. Each tree is built from a random subset of the training data, and the final prediction is made by aggregating the outputs of all the individual trees (e.g., by majority vote for classification or averaging for regression).\n",
    "\n",
    "- **How it works:**\n",
    "    - **Bagging**: Randomly samples the data with replacement to train each decision tree on a slightly different subset.\n",
    "    - **Feature Randomness**: At each split in a tree, a random subset of features is chosen, making the model less correlated and more diverse.\n",
    "\n",
    "- **Advantages:**\n",
    "    - **Reduces Overfitting**: By averaging multiple trees, the model reduces the risk of overfitting that individual trees might have.\n",
    "    - **High Accuracy**: Generally provides better performance and accuracy than a single decision tree.\n",
    "Robust: Less sensitive to outliers and noise in the data.\n",
    "\n",
    "- **Disadvantages:**\n",
    "    - **Complexity**: More difficult to interpret than a single decision tree.\n",
    "    - **Computationally Expensive**: Requires more computational resources and time for training and making predictions, especially with a large number of trees.\n",
    "    - **Less Intuitive**: Not as straightforward to understand the decision-making process.\n",
    "\n",
    "`Preferable for more complex problems, larger datasets, and when you need a robust and accurate model.`\n",
    "\n",
    "![Getting Started](..\\data\\raw\\image.png)\n",
    "\n",
    "\n",
    "---\n",
    "\n",
    "Imported Libraries"
   ]
  },
  {
   "cell_type": "code",
   "execution_count": null,
   "metadata": {},
   "outputs": [],
   "source": [
    "# Data processing\n",
    "# ==================================================================================\n",
    "import pandas as pd\n",
    "import numpy as np\n",
    "\n",
    "# Charts\n",
    "# ==================================================================================\n",
    "import matplotlib.pyplot as plt\n",
    "\n",
    "# Preprocessing and modeling\n",
    "# ==================================================================================\n",
    "from sklearn.ensemble import RandomForestClassifier\n",
    "from sklearn.metrics import accuracy_score\n",
    "# from sklearn.metrics import confusion_matrix\n",
    "# from sklearn.metrics import ConfusionMatrixDisplay\n",
    "# from sklearn.metrics import classification_report\n",
    "from sklearn.model_selection import GridSearchCV\n",
    "from sklearn.model_selection import ParameterGrid\n",
    "# from sklearn.inspection import permutation_importance\n",
    "from sklearn import tree\n",
    "\n",
    "\n",
    "# Warnings Configuration\n",
    "# ==================================================================================\n",
    "import warnings\n",
    "\n",
    "def ignore_warn(*args, **kwargs):\n",
    "    pass\n",
    "warnings.warn = ignore_warn # ignore annoying warning (from sklearn and seaborn)\n",
    "warnings.filterwarnings(\"ignore\", category=FutureWarning)"
   ]
  },
  {
   "cell_type": "markdown",
   "metadata": {},
   "source": [
    "## Step 1: Decision making: Which is the best dataset\n",
    "\n"
   ]
  },
  {
   "cell_type": "code",
   "execution_count": 14,
   "metadata": {},
   "outputs": [],
   "source": [
    "# Train data frames\n",
    "X_train_with_outliers_sel = pd.read_csv('../data/processed/X_train_with_outliers_sel.csv')\n",
    "X_train_without_outliers_sel = pd.read_csv('../data/processed/X_train_without_outliers_sel.csv')\n",
    "y_train = pd.read_csv('../data/processed/y_train.csv')\n",
    "\n",
    "# Test data frames\n",
    "X_test_with_outliers_sel = pd.read_csv('../data/processed/X_test_with_outliers_sel.csv')\n",
    "X_test_without_outliers_sel = pd.read_csv('../data/processed/X_test_without_outliers_sel.csv')\n",
    "y_test = pd.read_csv('../data/processed/y_test.csv')\n",
    "\n"
   ]
  },
  {
   "cell_type": "code",
   "execution_count": 15,
   "metadata": {},
   "outputs": [],
   "source": [
    "# Return a contiguous flattened array.\n",
    "\n",
    "# A 1-D array, containing the elements of the input, is returned. A copy is made only if needed.\n",
    "\n",
    "y_train = y_train.values.ravel()"
   ]
  },
  {
   "cell_type": "code",
   "execution_count": 16,
   "metadata": {},
   "outputs": [],
   "source": [
    "# Return a contiguous flattened array.\n",
    "\n",
    "# A 1-D array, containing the elements of the input, is returned. A copy is made only if needed.\n",
    "\n",
    "y_test = y_test.values.ravel()"
   ]
  },
  {
   "cell_type": "code",
   "execution_count": 17,
   "metadata": {},
   "outputs": [
    {
     "name": "stdout",
     "output_type": "stream",
     "text": [
      "|X_train|\n",
      "=================================================================\n",
      "X_train_with_outliers_sel shape: (614, 8) \n",
      "X_train_without_outliers_sel shape: (614, 8)\n",
      " \n",
      "|X_test|\n",
      "=================================================================\n",
      "X_test_with_outliers_sel shape: (154, 8) \n",
      "X_test_without_outliers_sel shape: (154, 8)\n",
      " \n",
      "|Y_train|\n",
      "=================================================================\n",
      "y_train shape: (614,)\n",
      " \n",
      "|Y_test|\n",
      "=================================================================\n",
      "y_test shape: (154,) \n"
     ]
    }
   ],
   "source": [
    "# train_dicts (dict)\n",
    "# =====================================================================================\n",
    "train_dicts = {\n",
    "  \"X_train_with_outliers_sel\": X_train_with_outliers_sel,\n",
    "  \"X_train_without_outliers_sel\": X_train_without_outliers_sel\n",
    "}\n",
    "\n",
    "# test_dicts (dict)\n",
    "# =====================================================================================\n",
    "test_dicts = {\n",
    "  \"X_test_with_outliers_sel\": X_test_with_outliers_sel,\n",
    "  \"X_test_without_outliers_sel\": X_test_without_outliers_sel\n",
    "}\n",
    "\n",
    "# -.-.--.-.-.-.-.-.-.-.--.-.-.-.-.-.-.-.-.-.-.-.-.-.-.-.-.-.-.-.-.-.-.-.-.-.-.-.-.-.--.-.-.-.-.-.-\n",
    "\n",
    "# train_dfs (list)\n",
    "# =====================================================================================\n",
    "train_dfs = [\n",
    "  X_train_with_outliers_sel,\n",
    "  X_train_without_outliers_sel\n",
    "]\n",
    "\n",
    "# test_dfs (list)\n",
    "# =====================================================================================\n",
    "test_dfs = [\n",
    "  X_test_with_outliers_sel,\n",
    "  X_test_without_outliers_sel\n",
    "]\n",
    "\n",
    "# -.-.--.-.-.-.-.-.-.-.--.-.-.-.-.-.-.-.-.-.-.-.-.-.-.-.-.-.-.-.-.-.-.-.-.-.-.-.-.-.--.-.-.-.-.-.-\n",
    "\n",
    "# Print .shape\n",
    "# =====================================================================================\n",
    "print(\"|X_train|\")\n",
    "print(\"=================================================================\")\n",
    "print(f\"X_train_with_outliers_sel shape: {X_train_with_outliers_sel.shape} \")\n",
    "print(f\"X_train_without_outliers_sel shape: {X_train_without_outliers_sel.shape}\\n \")\n",
    "\n",
    "print(\"|X_test|\")\n",
    "print(\"=================================================================\")\n",
    "print(f\"X_test_with_outliers_sel shape: {X_test_with_outliers_sel.shape} \")\n",
    "print(f\"X_test_without_outliers_sel shape: {X_test_without_outliers_sel.shape}\\n \")\n",
    "\n",
    "print(\"|Y_train|\")\n",
    "print(\"=================================================================\")\n",
    "print(f\"y_train shape: {y_train.shape}\\n \")\n",
    "\n",
    "print(\"|Y_test|\")\n",
    "print(\"=================================================================\")\n",
    "print(f\"y_test shape: {y_test.shape} \")"
   ]
  },
  {
   "cell_type": "code",
   "execution_count": null,
   "metadata": {},
   "outputs": [
    {
     "data": {
      "text/plain": [
       "[{'index': 0,\n",
       "  'train_df': 'X_train_with_outliers_sel',\n",
       "  'Accuracy_score': 0.7207792207792207},\n",
       " {'index': 1,\n",
       "  'train_df': 'X_train_without_outliers_sel',\n",
       "  'Accuracy_score': 0.7142857142857143}]"
      ]
     },
     "execution_count": 18,
     "metadata": {},
     "output_type": "execute_result"
    }
   ],
   "source": [
    "results = []\n",
    "\n",
    "for df_index in range(len(train_dfs)):\n",
    "  model = RandomForestClassifier(random_state = 42) # Model initialization and training\n",
    "\n",
    "  train_df = train_dfs[df_index]\n",
    "  model.fit(train_df, y_train)\n",
    "\n",
    "  y_test_pred = model.predict(test_dfs[df_index]) # Model prediction\n",
    "\n",
    "  results.append(\n",
    "    {\n",
    "        \"index\": df_index,\n",
    "        \"train_df\": list(train_dicts.keys())[df_index],\n",
    "        \"Accuracy_score\": accuracy_score(y_test, y_test_pred)\n",
    "  })\n",
    "\n",
    "resultados = sorted(results, key = lambda x: x[\"Accuracy_score\"], reverse = True)\n",
    "resultados"
   ]
  },
  {
   "cell_type": "code",
   "execution_count": 19,
   "metadata": {},
   "outputs": [
    {
     "name": "stdout",
     "output_type": "stream",
     "text": [
      "The best train dataframe is |X_train_with_outliers_sel|.\n",
      "=======================================================      \n",
      "| Accuracy score: 0.7207792207792207   |\n",
      "========================================\n"
     ]
    }
   ],
   "source": [
    "print (f\"The best train dataframe is |{resultados[0]['train_df']}|.\\n\\\n",
    "=======================================================      \\n\\\n",
    "| Accuracy score: {resultados[0]['Accuracy_score']}   |\\n\\\n",
    "========================================\")"
   ]
  },
  {
   "cell_type": "markdown",
   "metadata": {},
   "source": [
    "## Step 2: Model hyperparameters optimization\n",
    "\n",
    "- ### 2.1 Grid SearchCV"
   ]
  }
 ],
 "metadata": {
  "kernelspec": {
   "display_name": "base",
   "language": "python",
   "name": "python3"
  },
  "language_info": {
   "codemirror_mode": {
    "name": "ipython",
    "version": 3
   },
   "file_extension": ".py",
   "mimetype": "text/x-python",
   "name": "python",
   "nbconvert_exporter": "python",
   "pygments_lexer": "ipython3",
   "version": "3.12.4"
  }
 },
 "nbformat": 4,
 "nbformat_minor": 2
}
