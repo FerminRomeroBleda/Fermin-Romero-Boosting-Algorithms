{
 "cells": [
  {
   "cell_type": "markdown",
   "metadata": {},
   "source": [
    "# Boosting\n",
    "\n",
    "---\n",
    "\n",
    "Imported Libraries"
   ]
  },
  {
   "cell_type": "code",
   "execution_count": 50,
   "metadata": {},
   "outputs": [],
   "source": [
    "# Data processing\n",
    "# ==================================================================================\n",
    "import pandas as pd\n",
    "import numpy as np\n",
    "\n",
    "# Charts\n",
    "# ==================================================================================\n",
    "import matplotlib.pyplot as plt\n",
    "\n",
    "# Preprocessing and modeling\n",
    "# ==================================================================================\n",
    "from sklearn.ensemble import RandomForestClassifier\n",
    "from sklearn.metrics import accuracy_score\n",
    "from sklearn.metrics import confusion_matrix\n",
    "from sklearn.metrics import ConfusionMatrixDisplay\n",
    "from sklearn.metrics import classification_report\n",
    "from sklearn.compose import ColumnTransformer\n",
    "from sklearn.preprocessing import OneHotEncoder\n",
    "from sklearn.model_selection import cross_val_score\n",
    "from sklearn.model_selection import train_test_split\n",
    "from sklearn.model_selection import RepeatedKFold\n",
    "from sklearn.model_selection import GridSearchCV\n",
    "from sklearn.model_selection import ParameterGrid\n",
    "from sklearn.inspection import permutation_importance\n",
    "from sklearn import tree\n",
    "\n",
    "\n",
    "\n",
    "# Warnings Configuration\n",
    "# ==================================================================================\n",
    "import warnings\n",
    "\n",
    "def ignore_warn(*args, **kwargs):\n",
    "    pass\n",
    "warnings.warn = ignore_warn # ignore annoying warning (from sklearn and seaborn)"
   ]
  },
  {
   "cell_type": "markdown",
   "metadata": {},
   "source": [
    "## Step 1: Decision making: Which is the best dataset\n",
    "\n"
   ]
  },
  {
   "cell_type": "code",
   "execution_count": 41,
   "metadata": {},
   "outputs": [],
   "source": [
    "# Train data frames\n",
    "X_train_with_outliers_sel = pd.read_csv('../data/processed/X_train_with_outliers_sel.csv')\n",
    "X_train_without_outliers_sel = pd.read_csv('../data/processed/X_train_without_outliers_sel.csv')\n",
    "X_train_with_outliers_norm_sel = pd.read_csv('../data/processed/X_train_with_outliers_norm_sel.csv')\n",
    "X_train_without_outliers_norm_sel = pd.read_csv('../data/processed/X_train_without_outliers_norm_sel.csv')\n",
    "X_train_with_outliers_minmax_sel = pd.read_csv('../data/processed/X_train_with_outliers_minmax_sel.csv')\n",
    "X_train_without_outliers_minmax_sel = pd.read_csv('../data/processed/X_train_without_outliers_minmax_sel.csv')\n",
    "y_train = pd.read_csv('../data/processed/y_train.csv')\n",
    "\n",
    "# Test data frames\n",
    "X_test_with_outliers_sel = pd.read_csv('../data/processed/X_test_with_outliers_sel.csv')\n",
    "X_test_without_outliers_sel = pd.read_csv('../data/processed/X_test_without_outliers_sel.csv')\n",
    "X_test_with_outliers_norm_sel = pd.read_csv('../data/processed/X_test_with_outliers_norm_sel.csv')\n",
    "X_test_without_outliers_norm_sel = pd.read_csv('../data/processed/X_test_without_outliers_norm_sel.csv')\n",
    "X_test_with_outliers_minmax_sel = pd.read_csv('../data/processed/X_test_with_outliers_minmax_sel.csv')\n",
    "X_test_without_outliers_minmax_sel = pd.read_csv('../data/processed/X_test_without_outliers_minmax_sel.csv')\n",
    "y_test = pd.read_csv('../data/processed/y_test.csv')"
   ]
  },
  {
   "cell_type": "code",
   "execution_count": 42,
   "metadata": {},
   "outputs": [
    {
     "name": "stdout",
     "output_type": "stream",
     "text": [
      "X_train_with_outliers_sel shape: (614, 8) \n",
      "X_train_without_outliers_sel shape: (614, 8) \n",
      "X_train_with_outliers_norm_sel shape: (614, 8) \n",
      "X_train_without_outliers_norm_sel shape: (614, 8) \n",
      "X_train_with_outliers_minmax_sel shape: (614, 8) \n",
      "X_train_without_outliers_minmax_sel shape: (614, 8)\n",
      " \n",
      "X_test_with_outliers_sel shape: (154, 8) \n",
      "X_test_without_outliers_sel shape: (154, 8) \n",
      "X_test_with_outliers_norm_sel shape: (154, 8) \n",
      "X_test_without_outliers_norm_sel shape: (154, 8) \n",
      "X_test_with_outliers_minmax_sel shape: (154, 8) \n",
      "X_test_without_outliers_minmax_sel shape: (154, 8)\n",
      " \n"
     ]
    }
   ],
   "source": [
    "# train_dicts (dict)\n",
    "# =====================================================================================\n",
    "train_dicts = {\n",
    "  \"X_train_with_outliers_sel\": X_train_with_outliers_sel,\n",
    "  \"X_train_without_outliers_sel\": X_train_without_outliers_sel,\n",
    "  \"X_train_with_outliers_norm_sel\": X_train_with_outliers_norm_sel,\n",
    "  \"X_train_without_outliers_norm_sel\": X_train_without_outliers_norm_sel,\n",
    "  \"X_train_with_outliers_minmax_sel\": X_train_with_outliers_minmax_sel,\n",
    "  \"X_train_without_outliers_minmax_sel\": X_train_without_outliers_minmax_sel\n",
    "}\n",
    "\n",
    "# test_dicts (dict)\n",
    "# =====================================================================================\n",
    "test_dicts = {\n",
    "  \"X_test_with_outliers_sel\": X_test_with_outliers_sel,\n",
    "  \"X_test_without_outliers_sel\": X_test_without_outliers_sel,\n",
    "  \"X_test_with_outliers_norm_sel\": X_test_with_outliers_norm_sel,\n",
    "  \"X_test_without_outliers_norm_sel\": X_test_without_outliers_norm_sel,\n",
    "  \"X_test_with_outliers_minmax_sel\": X_test_with_outliers_minmax_sel,\n",
    "  \"X_test_without_outliers_minmax_sel\": X_test_without_outliers_minmax_sel\n",
    "}\n",
    "\n",
    "# -.-.--.-.-.-.-.-.-.-.--.-.-.-.-.-.-.-.-.-.-.-.-.-.-.-.-.-.-.-.-.-.-.-.-.-.-.-.-.-.--.-.-.-.-.-.-\n",
    "\n",
    "# train_dfs (list)\n",
    "# =====================================================================================\n",
    "train_dfs = [\n",
    "  X_train_with_outliers_sel,\n",
    "  X_train_without_outliers_sel,\n",
    "  X_train_with_outliers_norm_sel,\n",
    "  X_train_without_outliers_norm_sel,\n",
    "  X_train_with_outliers_minmax_sel,\n",
    "  X_train_without_outliers_minmax_sel\n",
    "]\n",
    "\n",
    "# test_dfs (list)\n",
    "# =====================================================================================\n",
    "test_dfs = [\n",
    "  X_test_with_outliers_sel,\n",
    "  X_test_without_outliers_sel,\n",
    "  X_test_with_outliers_norm_sel,\n",
    "  X_test_without_outliers_norm_sel,\n",
    "  X_test_with_outliers_minmax_sel,\n",
    "  X_test_without_outliers_minmax_sel\n",
    "]\n",
    "\n",
    "# -.-.--.-.-.-.-.-.-.-.--.-.-.-.-.-.-.-.-.-.-.-.-.-.-.-.-.-.-.-.-.-.-.-.-.-.-.-.-.-.--.-.-.-.-.-.-\n",
    "\n",
    "# Print .shape\n",
    "# =====================================================================================\n",
    "print(f\"X_train_with_outliers_sel shape: {X_train_with_outliers_sel.shape} \")\n",
    "print(f\"X_train_without_outliers_sel shape: {X_train_without_outliers_sel.shape} \")\n",
    "print(f\"X_train_with_outliers_norm_sel shape: {X_train_with_outliers_norm_sel.shape} \")\n",
    "print(f\"X_train_without_outliers_norm_sel shape: {X_train_without_outliers_norm_sel.shape} \")\n",
    "print(f\"X_train_with_outliers_minmax_sel shape: {X_train_with_outliers_minmax_sel.shape} \")\n",
    "print(f\"X_train_without_outliers_minmax_sel shape: {X_train_without_outliers_minmax_sel.shape}\\n \")\n",
    "\n",
    "print(f\"X_test_with_outliers_sel shape: {X_test_with_outliers_sel.shape} \")\n",
    "print(f\"X_test_without_outliers_sel shape: {X_test_without_outliers_sel.shape} \")\n",
    "print(f\"X_test_with_outliers_norm_sel shape: {X_test_with_outliers_norm_sel.shape} \")\n",
    "print(f\"X_test_without_outliers_norm_sel shape: {X_test_without_outliers_norm_sel.shape} \")\n",
    "print(f\"X_test_with_outliers_minmax_sel shape: {X_test_with_outliers_minmax_sel.shape} \")\n",
    "print(f\"X_test_without_outliers_minmax_sel shape: {X_test_without_outliers_minmax_sel.shape}\\n \")"
   ]
  },
  {
   "cell_type": "code",
   "execution_count": 43,
   "metadata": {},
   "outputs": [
    {
     "name": "stderr",
     "output_type": "stream",
     "text": [
      "c:\\Users\\Fermin\\anaconda3\\Lib\\site-packages\\sklearn\\base.py:1474: DataConversionWarning: A column-vector y was passed when a 1d array was expected. Please change the shape of y to (n_samples,), for example using ravel().\n",
      "  return fit_method(estimator, *args, **kwargs)\n",
      "c:\\Users\\Fermin\\anaconda3\\Lib\\site-packages\\sklearn\\base.py:1474: DataConversionWarning: A column-vector y was passed when a 1d array was expected. Please change the shape of y to (n_samples,), for example using ravel().\n",
      "  return fit_method(estimator, *args, **kwargs)\n",
      "c:\\Users\\Fermin\\anaconda3\\Lib\\site-packages\\sklearn\\base.py:1474: DataConversionWarning: A column-vector y was passed when a 1d array was expected. Please change the shape of y to (n_samples,), for example using ravel().\n",
      "  return fit_method(estimator, *args, **kwargs)\n",
      "c:\\Users\\Fermin\\anaconda3\\Lib\\site-packages\\sklearn\\base.py:1474: DataConversionWarning: A column-vector y was passed when a 1d array was expected. Please change the shape of y to (n_samples,), for example using ravel().\n",
      "  return fit_method(estimator, *args, **kwargs)\n",
      "c:\\Users\\Fermin\\anaconda3\\Lib\\site-packages\\sklearn\\base.py:1474: DataConversionWarning: A column-vector y was passed when a 1d array was expected. Please change the shape of y to (n_samples,), for example using ravel().\n",
      "  return fit_method(estimator, *args, **kwargs)\n",
      "c:\\Users\\Fermin\\anaconda3\\Lib\\site-packages\\sklearn\\base.py:1474: DataConversionWarning: A column-vector y was passed when a 1d array was expected. Please change the shape of y to (n_samples,), for example using ravel().\n",
      "  return fit_method(estimator, *args, **kwargs)\n"
     ]
    },
    {
     "data": {
      "text/plain": [
       "[{'index': 0,\n",
       "  'train_df': 'X_train_with_outliers_sel',\n",
       "  'Accuracy_score': 0.7207792207792207},\n",
       " {'index': 2,\n",
       "  'train_df': 'X_train_with_outliers_norm_sel',\n",
       "  'Accuracy_score': 0.7207792207792207},\n",
       " {'index': 3,\n",
       "  'train_df': 'X_train_without_outliers_norm_sel',\n",
       "  'Accuracy_score': 0.7207792207792207},\n",
       " {'index': 4,\n",
       "  'train_df': 'X_train_with_outliers_minmax_sel',\n",
       "  'Accuracy_score': 0.7207792207792207},\n",
       " {'index': 1,\n",
       "  'train_df': 'X_train_without_outliers_sel',\n",
       "  'Accuracy_score': 0.7142857142857143},\n",
       " {'index': 5,\n",
       "  'train_df': 'X_train_without_outliers_minmax_sel',\n",
       "  'Accuracy_score': 0.7142857142857143}]"
      ]
     },
     "execution_count": 43,
     "metadata": {},
     "output_type": "execute_result"
    }
   ],
   "source": [
    "results = []\n",
    "\n",
    "for df_index in range(len(train_dfs)):\n",
    "  model = RandomForestClassifier(random_state = 42) # Model initialization and training\n",
    "\n",
    "  train_df = train_dfs[df_index]\n",
    "  model.fit(train_df, y_train)\n",
    "\n",
    "  '''y_train_pred = model.predict(train_df)'''\n",
    "  y_test_pred = model.predict(test_dfs[df_index]) # Model prediction\n",
    "\n",
    "  results.append(\n",
    "    {\n",
    "        \"index\": df_index,\n",
    "        \"train_df\": list(train_dicts.keys())[df_index],\n",
    "        \"Accuracy_score\": accuracy_score(y_test, y_test_pred)\n",
    "  })\n",
    "\n",
    "resultados = sorted(results, key = lambda x: x[\"Accuracy_score\"], reverse = True)\n",
    "resultados"
   ]
  },
  {
   "cell_type": "code",
   "execution_count": 44,
   "metadata": {},
   "outputs": [
    {
     "name": "stdout",
     "output_type": "stream",
     "text": [
      "The best train dataframe is |X_train_with_outliers_sel|.\n",
      "=======================================================      \n",
      "| Accuracy score: 0.7207792207792207   |\n",
      "========================================\n"
     ]
    }
   ],
   "source": [
    "print (f\"The best train dataframe is |{resultados[0]['train_df']}|.\\n\\\n",
    "=======================================================      \\n\\\n",
    "| Accuracy score: {resultados[0]['Accuracy_score']}   |\\n\\\n",
    "========================================\")"
   ]
  },
  {
   "cell_type": "markdown",
   "metadata": {},
   "source": [
    "## Step 2: Model hyperparameters optimization\n",
    "\n",
    "- ### 2.1 Grid SearchCV"
   ]
  }
 ],
 "metadata": {
  "kernelspec": {
   "display_name": "base",
   "language": "python",
   "name": "python3"
  },
  "language_info": {
   "codemirror_mode": {
    "name": "ipython",
    "version": 3
   },
   "file_extension": ".py",
   "mimetype": "text/x-python",
   "name": "python",
   "nbconvert_exporter": "python",
   "pygments_lexer": "ipython3",
   "version": "3.12.4"
  }
 },
 "nbformat": 4,
 "nbformat_minor": 2
}
